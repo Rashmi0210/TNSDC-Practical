{
 "cells": [
  {
   "cell_type": "markdown",
   "metadata": {},
   "source": [
    "# EDUNET FOUNDATION\n"
   ]
  },
  {
   "cell_type": "markdown",
   "metadata": {},
   "source": [
    "# LAB 5 - Exercise on Python Comparison Operators - Selfpaced Notebook"
   ]
  },
  {
   "cell_type": "markdown",
   "metadata": {},
   "source": [
    "Question 1: Write Python expressions using comparison operators to check if two numbers are equal, not equal, greater than, or less than each other."
   ]
  },
  {
   "cell_type": "code",
   "execution_count": 10,
   "metadata": {},
   "outputs": [
    {
     "name": "stdout",
     "output_type": "stream",
     "text": [
      "enter your 1st number: 4\n",
      "enter your 2nd number: 5\n",
      "Equal: False\n",
      "Not Equal: True\n",
      "GT: True\n"
     ]
    }
   ],
   "source": [
    "#n1=10\n",
    "#n2=5\n",
    "\n",
    "num1=int(input(\"enter your 1st number: \"))\n",
    "num2=int(input(\"enter your 2nd number: \"))\n",
    "\n",
    "#check if equal\n",
    "\n",
    "is_eq = num1 == num2\n",
    "print(\"Equal:\", is_eq)\n",
    "\n",
    "#chk not equal\n",
    "\n",
    "is_not_eq = num1 != num2\n",
    "print(\"Not Equal:\", is_not_eq)\n",
    "\n",
    "#> than\n",
    "\n",
    "is_greater_than = num1 < num2\n",
    "print(\"GT:\", is_greater_than)"
   ]
  },
  {
   "cell_type": "markdown",
   "metadata": {},
   "source": [
    "Question 2: Create a program that compares two strings and prints whether they are equal or not."
   ]
  },
  {
   "cell_type": "code",
   "execution_count": 12,
   "metadata": {},
   "outputs": [
    {
     "name": "stdout",
     "output_type": "stream",
     "text": [
      "the strings are equal.\n"
     ]
    }
   ],
   "source": [
    "s1= \"hello\"\n",
    "s2= \"hello\"\n",
    "\n",
    "if s1==s2:\n",
    "    print(\"the strings are equal.\")\n",
    "else:\n",
    "     print(\"the strings are not equal.\")"
   ]
  },
  {
   "cell_type": "markdown",
   "metadata": {},
   "source": [
    "Question 3: Write a Python program that checks if a given year is a leap year using comparison operators."
   ]
  },
  {
   "cell_type": "code",
   "execution_count": 17,
   "metadata": {},
   "outputs": [
    {
     "name": "stdout",
     "output_type": "stream",
     "text": [
      "Enter a year: 2023\n",
      "2023  is not a leap year.\n"
     ]
    }
   ],
   "source": [
    "year = int(input(\"Enter a year: \"))\n",
    "\n",
    "if (year % 4 == 0 and year % 100 !=0):\n",
    "    print(year,\"is a leap year.\")\n",
    "else:\n",
    "    print(year,\" is not a leap year.\")"
   ]
  },
  {
   "cell_type": "markdown",
   "metadata": {},
   "source": [
    "Question 4: Develop a program that compares the lengths of two strings and prints which one is longer."
   ]
  },
  {
   "cell_type": "code",
   "execution_count": 19,
   "metadata": {},
   "outputs": [
    {
     "name": "stdout",
     "output_type": "stream",
     "text": [
      "Enter a string 1: rashmi\n",
      "Enter a string 2: khushi\n",
      "both the string are of equal length.\n"
     ]
    }
   ],
   "source": [
    "#string1 = \"python\"\n",
    "#string2 = \"programming\"\n",
    "string1= input(\"Enter a string 1: \")\n",
    "string2= input(\"Enter a string 2: \")\n",
    "\n",
    "if len(string1) > len(string2):\n",
    "    print(\"string 1 is longer.\")\n",
    "elif len(string2) > len(string1):\n",
    "    print(\"string 2 is longer.\")\n",
    "else:\n",
    "      print(\"both the string are of equal length.\")"
   ]
  },
  {
   "cell_type": "markdown",
   "metadata": {},
   "source": [
    "Question 5: Build a program that compares the ages of two people and determines who is older."
   ]
  },
  {
   "cell_type": "code",
   "execution_count": null,
   "metadata": {},
   "outputs": [],
   "source": []
  },
  {
   "cell_type": "markdown",
   "metadata": {},
   "source": [
    "Question 6: Create a program that checks if a given number is positive, negative, or zero using comparison operators."
   ]
  },
  {
   "cell_type": "code",
   "execution_count": null,
   "metadata": {},
   "outputs": [],
   "source": []
  },
  {
   "cell_type": "markdown",
   "metadata": {},
   "source": [
    "Question 7: Write a Python program that checks if a user's input is a vowel (a, e, i, o, u) using comparison operators."
   ]
  },
  {
   "cell_type": "code",
   "execution_count": null,
   "metadata": {},
   "outputs": [],
   "source": []
  },
  {
   "cell_type": "markdown",
   "metadata": {},
   "source": [
    "Question 8:Develop a program that compares the lengths of three sides of a triangle and determines if it's equilateral, isosceles, or scalene."
   ]
  },
  {
   "cell_type": "code",
   "execution_count": null,
   "metadata": {},
   "outputs": [],
   "source": []
  },
  {
   "cell_type": "markdown",
   "metadata": {},
   "source": [
    "Question 9: Create a program that compares the heights of two individuals and prints who is taller."
   ]
  },
  {
   "cell_type": "code",
   "execution_count": null,
   "metadata": {},
   "outputs": [],
   "source": []
  },
  {
   "cell_type": "markdown",
   "metadata": {},
   "source": [
    "Question 10: Write a Python program that checks if a given number is within a specified range using comparison operators."
   ]
  },
  {
   "cell_type": "code",
   "execution_count": null,
   "metadata": {},
   "outputs": [],
   "source": []
  }
 ],
 "metadata": {
  "kernelspec": {
   "display_name": "Python 3",
   "language": "python",
   "name": "python3"
  },
  "language_info": {
   "codemirror_mode": {
    "name": "ipython",
    "version": 3
   },
   "file_extension": ".py",
   "mimetype": "text/x-python",
   "name": "python",
   "nbconvert_exporter": "python",
   "pygments_lexer": "ipython3",
   "version": "3.7.6"
  }
 },
 "nbformat": 4,
 "nbformat_minor": 4
}
