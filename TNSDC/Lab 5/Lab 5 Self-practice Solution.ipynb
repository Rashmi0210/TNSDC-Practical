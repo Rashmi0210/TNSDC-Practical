{
 "cells": [
  {
   "cell_type": "markdown",
   "metadata": {},
   "source": [
    "# EDUNET FOUNDATION\n"
   ]
  },
  {
   "cell_type": "markdown",
   "metadata": {},
   "source": [
    "# LAB 5 - Exercise on Python Comparison Operators - Selfpaced Solution"
   ]
  },
  {
   "cell_type": "markdown",
   "metadata": {},
   "source": [
    "Question 1: Write Python expressions using comparison operators to check if two numbers are equal, not equal, greater than, or less than each other."
   ]
  },
  {
   "cell_type": "code",
   "execution_count": 1,
   "metadata": {},
   "outputs": [
    {
     "name": "stdout",
     "output_type": "stream",
     "text": [
      "Equal: False\n",
      "Not Equal: True\n",
      "Greater Than: True\n",
      "Less Than: False\n"
     ]
    }
   ],
   "source": [
    "num1 = 10\n",
    "num2 = 5\n",
    "\n",
    "# Check if equal\n",
    "is_equal = num1 == num2\n",
    "print(\"Equal:\", is_equal)\n",
    "\n",
    "# Check if not equal\n",
    "is_not_equal = num1 != num2\n",
    "print(\"Not Equal:\", is_not_equal)\n",
    "\n",
    "# Check if greater than\n",
    "is_greater_than = num1 > num2\n",
    "print(\"Greater Than:\", is_greater_than)\n",
    "\n",
    "# Check if less than\n",
    "is_less_than = num1 < num2\n",
    "print(\"Less Than:\", is_less_than)\n"
   ]
  },
  {
   "cell_type": "markdown",
   "metadata": {},
   "source": [
    "Question 2: Create a program that compares two strings and prints whether they are equal or not."
   ]
  },
  {
   "cell_type": "code",
   "execution_count": 2,
   "metadata": {},
   "outputs": [
    {
     "name": "stdout",
     "output_type": "stream",
     "text": [
      "The strings are not equal.\n"
     ]
    }
   ],
   "source": [
    "string1 = \"Hello\"\n",
    "string2 = \"World\"\n",
    "\n",
    "if string1 == string2:\n",
    "    print(\"The strings are equal.\")\n",
    "else:\n",
    "    print(\"The strings are not equal.\")\n"
   ]
  },
  {
   "cell_type": "markdown",
   "metadata": {},
   "source": [
    "Question 3: Write a Python program that checks if a given year is a leap year using comparison operators."
   ]
  },
  {
   "cell_type": "code",
   "execution_count": 3,
   "metadata": {},
   "outputs": [
    {
     "name": "stdout",
     "output_type": "stream",
     "text": [
      "Enter a year: 2024\n",
      "2024 is a leap year.\n"
     ]
    }
   ],
   "source": [
    "year = int(input(\"Enter a year: \"))\n",
    "\n",
    "if (year % 4 == 0 and year % 100 != 0) or (year % 400 == 0):\n",
    "    print(year, \"is a leap year.\")\n",
    "else:\n",
    "    print(year, \"is not a leap year.\")\n"
   ]
  },
  {
   "cell_type": "markdown",
   "metadata": {},
   "source": [
    "Question 4: Develop a program that compares the lengths of two strings and prints which one is longer."
   ]
  },
  {
   "cell_type": "code",
   "execution_count": 4,
   "metadata": {},
   "outputs": [
    {
     "name": "stdout",
     "output_type": "stream",
     "text": [
      "String 2 is longer.\n"
     ]
    }
   ],
   "source": [
    "string1 = \"Python\"\n",
    "string2 = \"Programming\"\n",
    "\n",
    "if len(string1) > len(string2):\n",
    "    print(\"String 1 is longer.\")\n",
    "elif len(string2) > len(string1):\n",
    "    print(\"String 2 is longer.\")\n",
    "else:\n",
    "    print(\"Both strings are of equal length.\")\n"
   ]
  },
  {
   "cell_type": "markdown",
   "metadata": {},
   "source": [
    "Question 5: Build a program that compares the ages of two people and determines who is older."
   ]
  },
  {
   "cell_type": "code",
   "execution_count": 5,
   "metadata": {},
   "outputs": [
    {
     "name": "stdout",
     "output_type": "stream",
     "text": [
      "Person 1 is older.\n"
     ]
    }
   ],
   "source": [
    "person1_age = 30\n",
    "person2_age = 25\n",
    "\n",
    "if person1_age > person2_age:\n",
    "    print(\"Person 1 is older.\")\n",
    "elif person2_age > person1_age:\n",
    "    print(\"Person 2 is older.\")\n",
    "else:\n",
    "    print(\"Both people are of the same age.\")\n"
   ]
  },
  {
   "cell_type": "markdown",
   "metadata": {},
   "source": [
    "Question 6: Create a program that checks if a given number is positive, negative, or zero using comparison operators."
   ]
  },
  {
   "cell_type": "code",
   "execution_count": 6,
   "metadata": {},
   "outputs": [
    {
     "name": "stdout",
     "output_type": "stream",
     "text": [
      "Enter a number: 56\n",
      "The number is positive.\n"
     ]
    }
   ],
   "source": [
    "num = int(input(\"Enter a number: \"))\n",
    "\n",
    "if num > 0:\n",
    "    print(\"The number is positive.\")\n",
    "elif num < 0:\n",
    "    print(\"The number is negative.\")\n",
    "else:\n",
    "    print(\"The number is zero.\")\n"
   ]
  },
  {
   "cell_type": "markdown",
   "metadata": {},
   "source": [
    "Question 7: Write a Python program that checks if a user's input is a vowel (a, e, i, o, u) using comparison operators."
   ]
  },
  {
   "cell_type": "code",
   "execution_count": 7,
   "metadata": {},
   "outputs": [
    {
     "name": "stdout",
     "output_type": "stream",
     "text": [
      "Enter a character: world\n",
      "The input is not a vowel.\n"
     ]
    }
   ],
   "source": [
    "user_input = input(\"Enter a character: \")\n",
    "\n",
    "if user_input.lower() in ['a', 'e', 'i', 'o', 'u']:\n",
    "    print(\"The input is a vowel.\")\n",
    "else:\n",
    "    print(\"The input is not a vowel.\")\n"
   ]
  },
  {
   "cell_type": "markdown",
   "metadata": {},
   "source": [
    "Question 8: Develop a program that compares the lengths of three sides of a triangle and determines if it's equilateral, isosceles, or scalene."
   ]
  },
  {
   "cell_type": "code",
   "execution_count": 8,
   "metadata": {},
   "outputs": [
    {
     "name": "stdout",
     "output_type": "stream",
     "text": [
      "It's an isosceles triangle.\n"
     ]
    }
   ],
   "source": [
    "side1 = 5\n",
    "side2 = 5\n",
    "side3 = 4\n",
    "\n",
    "if side1 == side2 == side3:\n",
    "    print(\"It's an equilateral triangle.\")\n",
    "elif side1 == side2 or side2 == side3 or side1 == side3:\n",
    "    print(\"It's an isosceles triangle.\")\n",
    "else:\n",
    "    print(\"It's a scalene triangle.\")\n"
   ]
  },
  {
   "cell_type": "markdown",
   "metadata": {},
   "source": [
    "Question 9: Create a program that compares the heights of two individuals and prints who is taller."
   ]
  },
  {
   "cell_type": "code",
   "execution_count": 9,
   "metadata": {},
   "outputs": [
    {
     "name": "stdout",
     "output_type": "stream",
     "text": [
      "Person 2 is taller.\n"
     ]
    }
   ],
   "source": [
    "person1_height = 175\n",
    "person2_height = 180\n",
    "\n",
    "if person1_height > person2_height:\n",
    "    print(\"Person 1 is taller.\")\n",
    "elif person2_height > person1_height:\n",
    "    print(\"Person 2 is taller.\")\n",
    "else:\n",
    "    print(\"Both individuals are of the same height.\")\n"
   ]
  },
  {
   "cell_type": "markdown",
   "metadata": {},
   "source": [
    "Question 10: Write a Python program that checks if a given number is within a specified range using comparison operators."
   ]
  },
  {
   "cell_type": "code",
   "execution_count": 10,
   "metadata": {},
   "outputs": [
    {
     "name": "stdout",
     "output_type": "stream",
     "text": [
      "Enter a number: 35\n",
      "The number is within the specified range.\n"
     ]
    }
   ],
   "source": [
    "num = int(input(\"Enter a number: \"))\n",
    "lower_limit = 10\n",
    "upper_limit = 50\n",
    "\n",
    "if num >= lower_limit and num <= upper_limit:\n",
    "    print(\"The number is within the specified range.\")\n",
    "else:\n",
    "    print(\"The number is outside the specified range.\")\n"
   ]
  }
 ],
 "metadata": {
  "kernelspec": {
   "display_name": "Python 3",
   "language": "python",
   "name": "python3"
  },
  "language_info": {
   "codemirror_mode": {
    "name": "ipython",
    "version": 3
   },
   "file_extension": ".py",
   "mimetype": "text/x-python",
   "name": "python",
   "nbconvert_exporter": "python",
   "pygments_lexer": "ipython3",
   "version": "3.7.6"
  }
 },
 "nbformat": 4,
 "nbformat_minor": 4
}
